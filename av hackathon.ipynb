{
 "cells": [
  {
   "cell_type": "markdown",
   "id": "aa707749",
   "metadata": {},
   "source": [
    "# Importing Libraries"
   ]
  },
  {
   "cell_type": "code",
   "execution_count": 1,
   "id": "fb88eefc",
   "metadata": {},
   "outputs": [],
   "source": [
    "import pandas as pd\n",
    "import numpy as np\n",
    "import matplotlib.pyplot  as plt\n",
    "import seaborn as sns\n",
    "from scipy import stats \n",
    "import warnings\n",
    "warnings.filterwarnings('ignore')\n",
    "from sklearn.ensemble import RandomForestClassifier\n",
    "from sklearn.ensemble import AdaBoostClassifier\n",
    "import xgboost as xgb\n",
    "from catboost import CatBoostClassifier \n",
    "from lightgbm import LGBMClassifier \n",
    "from sklearn.model_selection import GridSearchCV"
   ]
  },
  {
   "cell_type": "markdown",
   "id": "6c7a8efe",
   "metadata": {},
   "source": [
    "# Loading source datasets"
   ]
  },
  {
   "cell_type": "code",
   "execution_count": 2,
   "id": "69f6d3e9",
   "metadata": {},
   "outputs": [
    {
     "ename": "FileNotFoundError",
     "evalue": "[Errno 2] No such file or directory: 'test_hXY9mYw.csv'",
     "output_type": "error",
     "traceback": [
      "\u001b[1;31m---------------------------------------------------------------------------\u001b[0m",
      "\u001b[1;31mFileNotFoundError\u001b[0m                         Traceback (most recent call last)",
      "\u001b[1;32m<ipython-input-2-3111c937dfa3>\u001b[0m in \u001b[0;36m<module>\u001b[1;34m\u001b[0m\n\u001b[1;32m----> 1\u001b[1;33m \u001b[0mtest\u001b[0m\u001b[1;33m=\u001b[0m\u001b[0mpd\u001b[0m\u001b[1;33m.\u001b[0m\u001b[0mread_csv\u001b[0m\u001b[1;33m(\u001b[0m\u001b[1;34m\"test_hXY9mYw.csv\"\u001b[0m\u001b[1;33m)\u001b[0m\u001b[1;33m\u001b[0m\u001b[1;33m\u001b[0m\u001b[0m\n\u001b[0m",
      "\u001b[1;32m~\\anaconda3\\lib\\site-packages\\pandas\\io\\parsers.py\u001b[0m in \u001b[0;36mread_csv\u001b[1;34m(filepath_or_buffer, sep, delimiter, header, names, index_col, usecols, squeeze, prefix, mangle_dupe_cols, dtype, engine, converters, true_values, false_values, skipinitialspace, skiprows, skipfooter, nrows, na_values, keep_default_na, na_filter, verbose, skip_blank_lines, parse_dates, infer_datetime_format, keep_date_col, date_parser, dayfirst, cache_dates, iterator, chunksize, compression, thousands, decimal, lineterminator, quotechar, quoting, doublequote, escapechar, comment, encoding, dialect, error_bad_lines, warn_bad_lines, delim_whitespace, low_memory, memory_map, float_precision, storage_options)\u001b[0m\n\u001b[0;32m    608\u001b[0m     \u001b[0mkwds\u001b[0m\u001b[1;33m.\u001b[0m\u001b[0mupdate\u001b[0m\u001b[1;33m(\u001b[0m\u001b[0mkwds_defaults\u001b[0m\u001b[1;33m)\u001b[0m\u001b[1;33m\u001b[0m\u001b[1;33m\u001b[0m\u001b[0m\n\u001b[0;32m    609\u001b[0m \u001b[1;33m\u001b[0m\u001b[0m\n\u001b[1;32m--> 610\u001b[1;33m     \u001b[1;32mreturn\u001b[0m \u001b[0m_read\u001b[0m\u001b[1;33m(\u001b[0m\u001b[0mfilepath_or_buffer\u001b[0m\u001b[1;33m,\u001b[0m \u001b[0mkwds\u001b[0m\u001b[1;33m)\u001b[0m\u001b[1;33m\u001b[0m\u001b[1;33m\u001b[0m\u001b[0m\n\u001b[0m\u001b[0;32m    611\u001b[0m \u001b[1;33m\u001b[0m\u001b[0m\n\u001b[0;32m    612\u001b[0m \u001b[1;33m\u001b[0m\u001b[0m\n",
      "\u001b[1;32m~\\anaconda3\\lib\\site-packages\\pandas\\io\\parsers.py\u001b[0m in \u001b[0;36m_read\u001b[1;34m(filepath_or_buffer, kwds)\u001b[0m\n\u001b[0;32m    460\u001b[0m \u001b[1;33m\u001b[0m\u001b[0m\n\u001b[0;32m    461\u001b[0m     \u001b[1;31m# Create the parser.\u001b[0m\u001b[1;33m\u001b[0m\u001b[1;33m\u001b[0m\u001b[1;33m\u001b[0m\u001b[0m\n\u001b[1;32m--> 462\u001b[1;33m     \u001b[0mparser\u001b[0m \u001b[1;33m=\u001b[0m \u001b[0mTextFileReader\u001b[0m\u001b[1;33m(\u001b[0m\u001b[0mfilepath_or_buffer\u001b[0m\u001b[1;33m,\u001b[0m \u001b[1;33m**\u001b[0m\u001b[0mkwds\u001b[0m\u001b[1;33m)\u001b[0m\u001b[1;33m\u001b[0m\u001b[1;33m\u001b[0m\u001b[0m\n\u001b[0m\u001b[0;32m    463\u001b[0m \u001b[1;33m\u001b[0m\u001b[0m\n\u001b[0;32m    464\u001b[0m     \u001b[1;32mif\u001b[0m \u001b[0mchunksize\u001b[0m \u001b[1;32mor\u001b[0m \u001b[0miterator\u001b[0m\u001b[1;33m:\u001b[0m\u001b[1;33m\u001b[0m\u001b[1;33m\u001b[0m\u001b[0m\n",
      "\u001b[1;32m~\\anaconda3\\lib\\site-packages\\pandas\\io\\parsers.py\u001b[0m in \u001b[0;36m__init__\u001b[1;34m(self, f, engine, **kwds)\u001b[0m\n\u001b[0;32m    817\u001b[0m             \u001b[0mself\u001b[0m\u001b[1;33m.\u001b[0m\u001b[0moptions\u001b[0m\u001b[1;33m[\u001b[0m\u001b[1;34m\"has_index_names\"\u001b[0m\u001b[1;33m]\u001b[0m \u001b[1;33m=\u001b[0m \u001b[0mkwds\u001b[0m\u001b[1;33m[\u001b[0m\u001b[1;34m\"has_index_names\"\u001b[0m\u001b[1;33m]\u001b[0m\u001b[1;33m\u001b[0m\u001b[1;33m\u001b[0m\u001b[0m\n\u001b[0;32m    818\u001b[0m \u001b[1;33m\u001b[0m\u001b[0m\n\u001b[1;32m--> 819\u001b[1;33m         \u001b[0mself\u001b[0m\u001b[1;33m.\u001b[0m\u001b[0m_engine\u001b[0m \u001b[1;33m=\u001b[0m \u001b[0mself\u001b[0m\u001b[1;33m.\u001b[0m\u001b[0m_make_engine\u001b[0m\u001b[1;33m(\u001b[0m\u001b[0mself\u001b[0m\u001b[1;33m.\u001b[0m\u001b[0mengine\u001b[0m\u001b[1;33m)\u001b[0m\u001b[1;33m\u001b[0m\u001b[1;33m\u001b[0m\u001b[0m\n\u001b[0m\u001b[0;32m    820\u001b[0m \u001b[1;33m\u001b[0m\u001b[0m\n\u001b[0;32m    821\u001b[0m     \u001b[1;32mdef\u001b[0m \u001b[0mclose\u001b[0m\u001b[1;33m(\u001b[0m\u001b[0mself\u001b[0m\u001b[1;33m)\u001b[0m\u001b[1;33m:\u001b[0m\u001b[1;33m\u001b[0m\u001b[1;33m\u001b[0m\u001b[0m\n",
      "\u001b[1;32m~\\anaconda3\\lib\\site-packages\\pandas\\io\\parsers.py\u001b[0m in \u001b[0;36m_make_engine\u001b[1;34m(self, engine)\u001b[0m\n\u001b[0;32m   1048\u001b[0m             )\n\u001b[0;32m   1049\u001b[0m         \u001b[1;31m# error: Too many arguments for \"ParserBase\"\u001b[0m\u001b[1;33m\u001b[0m\u001b[1;33m\u001b[0m\u001b[1;33m\u001b[0m\u001b[0m\n\u001b[1;32m-> 1050\u001b[1;33m         \u001b[1;32mreturn\u001b[0m \u001b[0mmapping\u001b[0m\u001b[1;33m[\u001b[0m\u001b[0mengine\u001b[0m\u001b[1;33m]\u001b[0m\u001b[1;33m(\u001b[0m\u001b[0mself\u001b[0m\u001b[1;33m.\u001b[0m\u001b[0mf\u001b[0m\u001b[1;33m,\u001b[0m \u001b[1;33m**\u001b[0m\u001b[0mself\u001b[0m\u001b[1;33m.\u001b[0m\u001b[0moptions\u001b[0m\u001b[1;33m)\u001b[0m  \u001b[1;31m# type: ignore[call-arg]\u001b[0m\u001b[1;33m\u001b[0m\u001b[1;33m\u001b[0m\u001b[0m\n\u001b[0m\u001b[0;32m   1051\u001b[0m \u001b[1;33m\u001b[0m\u001b[0m\n\u001b[0;32m   1052\u001b[0m     \u001b[1;32mdef\u001b[0m \u001b[0m_failover_to_python\u001b[0m\u001b[1;33m(\u001b[0m\u001b[0mself\u001b[0m\u001b[1;33m)\u001b[0m\u001b[1;33m:\u001b[0m\u001b[1;33m\u001b[0m\u001b[1;33m\u001b[0m\u001b[0m\n",
      "\u001b[1;32m~\\anaconda3\\lib\\site-packages\\pandas\\io\\parsers.py\u001b[0m in \u001b[0;36m__init__\u001b[1;34m(self, src, **kwds)\u001b[0m\n\u001b[0;32m   1865\u001b[0m \u001b[1;33m\u001b[0m\u001b[0m\n\u001b[0;32m   1866\u001b[0m         \u001b[1;31m# open handles\u001b[0m\u001b[1;33m\u001b[0m\u001b[1;33m\u001b[0m\u001b[1;33m\u001b[0m\u001b[0m\n\u001b[1;32m-> 1867\u001b[1;33m         \u001b[0mself\u001b[0m\u001b[1;33m.\u001b[0m\u001b[0m_open_handles\u001b[0m\u001b[1;33m(\u001b[0m\u001b[0msrc\u001b[0m\u001b[1;33m,\u001b[0m \u001b[0mkwds\u001b[0m\u001b[1;33m)\u001b[0m\u001b[1;33m\u001b[0m\u001b[1;33m\u001b[0m\u001b[0m\n\u001b[0m\u001b[0;32m   1868\u001b[0m         \u001b[1;32massert\u001b[0m \u001b[0mself\u001b[0m\u001b[1;33m.\u001b[0m\u001b[0mhandles\u001b[0m \u001b[1;32mis\u001b[0m \u001b[1;32mnot\u001b[0m \u001b[1;32mNone\u001b[0m\u001b[1;33m\u001b[0m\u001b[1;33m\u001b[0m\u001b[0m\n\u001b[0;32m   1869\u001b[0m         \u001b[1;32mfor\u001b[0m \u001b[0mkey\u001b[0m \u001b[1;32min\u001b[0m \u001b[1;33m(\u001b[0m\u001b[1;34m\"storage_options\"\u001b[0m\u001b[1;33m,\u001b[0m \u001b[1;34m\"encoding\"\u001b[0m\u001b[1;33m,\u001b[0m \u001b[1;34m\"memory_map\"\u001b[0m\u001b[1;33m,\u001b[0m \u001b[1;34m\"compression\"\u001b[0m\u001b[1;33m)\u001b[0m\u001b[1;33m:\u001b[0m\u001b[1;33m\u001b[0m\u001b[1;33m\u001b[0m\u001b[0m\n",
      "\u001b[1;32m~\\anaconda3\\lib\\site-packages\\pandas\\io\\parsers.py\u001b[0m in \u001b[0;36m_open_handles\u001b[1;34m(self, src, kwds)\u001b[0m\n\u001b[0;32m   1360\u001b[0m         \u001b[0mLet\u001b[0m \u001b[0mthe\u001b[0m \u001b[0mreaders\u001b[0m \u001b[0mopen\u001b[0m \u001b[0mIOHanldes\u001b[0m \u001b[0mafter\u001b[0m \u001b[0mthey\u001b[0m \u001b[0mare\u001b[0m \u001b[0mdone\u001b[0m \u001b[1;32mwith\u001b[0m \u001b[0mtheir\u001b[0m \u001b[0mpotential\u001b[0m \u001b[0mraises\u001b[0m\u001b[1;33m.\u001b[0m\u001b[1;33m\u001b[0m\u001b[1;33m\u001b[0m\u001b[0m\n\u001b[0;32m   1361\u001b[0m         \"\"\"\n\u001b[1;32m-> 1362\u001b[1;33m         self.handles = get_handle(\n\u001b[0m\u001b[0;32m   1363\u001b[0m             \u001b[0msrc\u001b[0m\u001b[1;33m,\u001b[0m\u001b[1;33m\u001b[0m\u001b[1;33m\u001b[0m\u001b[0m\n\u001b[0;32m   1364\u001b[0m             \u001b[1;34m\"r\"\u001b[0m\u001b[1;33m,\u001b[0m\u001b[1;33m\u001b[0m\u001b[1;33m\u001b[0m\u001b[0m\n",
      "\u001b[1;32m~\\anaconda3\\lib\\site-packages\\pandas\\io\\common.py\u001b[0m in \u001b[0;36mget_handle\u001b[1;34m(path_or_buf, mode, encoding, compression, memory_map, is_text, errors, storage_options)\u001b[0m\n\u001b[0;32m    640\u001b[0m                 \u001b[0merrors\u001b[0m \u001b[1;33m=\u001b[0m \u001b[1;34m\"replace\"\u001b[0m\u001b[1;33m\u001b[0m\u001b[1;33m\u001b[0m\u001b[0m\n\u001b[0;32m    641\u001b[0m             \u001b[1;31m# Encoding\u001b[0m\u001b[1;33m\u001b[0m\u001b[1;33m\u001b[0m\u001b[1;33m\u001b[0m\u001b[0m\n\u001b[1;32m--> 642\u001b[1;33m             handle = open(\n\u001b[0m\u001b[0;32m    643\u001b[0m                 \u001b[0mhandle\u001b[0m\u001b[1;33m,\u001b[0m\u001b[1;33m\u001b[0m\u001b[1;33m\u001b[0m\u001b[0m\n\u001b[0;32m    644\u001b[0m                 \u001b[0mioargs\u001b[0m\u001b[1;33m.\u001b[0m\u001b[0mmode\u001b[0m\u001b[1;33m,\u001b[0m\u001b[1;33m\u001b[0m\u001b[1;33m\u001b[0m\u001b[0m\n",
      "\u001b[1;31mFileNotFoundError\u001b[0m: [Errno 2] No such file or directory: 'test_hXY9mYw.csv'"
     ]
    }
   ],
   "source": [
    "test=pd.read_csv(\"test_hXY9mYw.csv\")"
   ]
  },
  {
   "cell_type": "code",
   "execution_count": null,
   "id": "965b00ec",
   "metadata": {},
   "outputs": [],
   "source": [
    "train=pd.read_csv(\"train_MpHjUjU.csv\")"
   ]
  },
  {
   "cell_type": "markdown",
   "id": "efde11b4",
   "metadata": {},
   "source": [
    "# Exploring shapes of source datasets"
   ]
  },
  {
   "cell_type": "code",
   "execution_count": null,
   "id": "5b28316a",
   "metadata": {},
   "outputs": [],
   "source": [
    "train.shape #shape of training data"
   ]
  },
  {
   "cell_type": "code",
   "execution_count": null,
   "id": "bbf611df",
   "metadata": {},
   "outputs": [],
   "source": [
    "test.shape #shape of test data"
   ]
  },
  {
   "cell_type": "code",
   "execution_count": null,
   "id": "b8d2746c",
   "metadata": {},
   "outputs": [],
   "source": [
    "train.columns #columns in training data"
   ]
  },
  {
   "cell_type": "code",
   "execution_count": null,
   "id": "b5594f75",
   "metadata": {},
   "outputs": [],
   "source": [
    "test.columns #columns in test data"
   ]
  },
  {
   "cell_type": "code",
   "execution_count": null,
   "id": "6266e3ae",
   "metadata": {},
   "outputs": [],
   "source": [
    "train.info()"
   ]
  },
  {
   "cell_type": "markdown",
   "id": "f054dfbc",
   "metadata": {},
   "source": [
    "# Data Cleaning"
   ]
  },
  {
   "cell_type": "markdown",
   "id": "a6824434",
   "metadata": {},
   "source": [
    "#Extracting attrition data using last working date"
   ]
  },
  {
   "cell_type": "code",
   "execution_count": null,
   "id": "3eba361b",
   "metadata": {},
   "outputs": [],
   "source": [
    "train['Attrition']=train['LastWorkingDate'].notnull() # attrition is true if there is a value in last working day"
   ]
  },
  {
   "cell_type": "code",
   "execution_count": null,
   "id": "3af9d8c4",
   "metadata": {},
   "outputs": [],
   "source": [
    "train.head()"
   ]
  },
  {
   "cell_type": "code",
   "execution_count": null,
   "id": "7516355a",
   "metadata": {},
   "outputs": [],
   "source": [
    "train['Attrition']=train['Attrition'].astype(int) #changing bool value to int as it will be easy for prediction"
   ]
  },
  {
   "cell_type": "code",
   "execution_count": null,
   "id": "3eaf8dd3",
   "metadata": {},
   "outputs": [],
   "source": [
    "train.head()"
   ]
  },
  {
   "cell_type": "code",
   "execution_count": null,
   "id": "1e8a5241",
   "metadata": {},
   "outputs": [],
   "source": [
    "train['Attrition'].unique() #checking whether data as per expectations"
   ]
  },
  {
   "cell_type": "code",
   "execution_count": null,
   "id": "9883615d",
   "metadata": {},
   "outputs": [],
   "source": [
    "train['Attrition'].value_counts()"
   ]
  },
  {
   "cell_type": "markdown",
   "id": "79e13a62",
   "metadata": {},
   "source": [
    "We can find 1616 employees already left the company."
   ]
  },
  {
   "cell_type": "code",
   "execution_count": null,
   "id": "560a178f",
   "metadata": {},
   "outputs": [],
   "source": [
    "train.columns"
   ]
  },
  {
   "cell_type": "code",
   "execution_count": null,
   "id": "66dd96d3",
   "metadata": {},
   "outputs": [],
   "source": [
    "train=train.drop_duplicates(subset='Emp_ID', keep='last') #dropping duplicates based on emp_id and keeping only last entry as date column already sorted"
   ]
  },
  {
   "cell_type": "code",
   "execution_count": null,
   "id": "34070cb2",
   "metadata": {},
   "outputs": [],
   "source": [
    "train.head()"
   ]
  },
  {
   "cell_type": "code",
   "execution_count": null,
   "id": "52388d61",
   "metadata": {},
   "outputs": [],
   "source": [
    "train=train.drop(['MMM-YY','Dateofjoining', 'LastWorkingDate'], axis = 1) #dropping date columns as it dont have any impact on predictions"
   ]
  },
  {
   "cell_type": "code",
   "execution_count": null,
   "id": "b630a450",
   "metadata": {},
   "outputs": [],
   "source": [
    "train.shape"
   ]
  },
  {
   "cell_type": "markdown",
   "id": "92e44c76",
   "metadata": {},
   "source": [
    "# Exploratory data analysis "
   ]
  },
  {
   "cell_type": "code",
   "execution_count": null,
   "id": "e0952733",
   "metadata": {},
   "outputs": [],
   "source": [
    "train.info() "
   ]
  },
  {
   "cell_type": "markdown",
   "id": "0bdf19b7",
   "metadata": {},
   "source": [
    "No null values found"
   ]
  },
  {
   "cell_type": "code",
   "execution_count": null,
   "id": "1549cf83",
   "metadata": {},
   "outputs": [],
   "source": [
    "#statistical Analysis\n",
    "train.describe()"
   ]
  },
  {
   "cell_type": "markdown",
   "id": "5fa82725",
   "metadata": {},
   "source": [
    "# Univariate Analysis"
   ]
  },
  {
   "cell_type": "code",
   "execution_count": null,
   "id": "c3b13024",
   "metadata": {},
   "outputs": [],
   "source": [
    "sns.set_style(\"whitegrid\")# setting plot style"
   ]
  },
  {
   "cell_type": "code",
   "execution_count": null,
   "id": "f4d3c141",
   "metadata": {},
   "outputs": [],
   "source": [
    "sns.set_palette(\"viridis\")#setting plot color palette"
   ]
  },
  {
   "cell_type": "code",
   "execution_count": null,
   "id": "27c12595",
   "metadata": {},
   "outputs": [],
   "source": [
    "plt.figure(figsize=(20,10))\n",
    "plt.subplot(3,3,1)\n",
    "sns.histplot(train,x='Age',kde=True)\n",
    "plt.subplot(3,3,2)\n",
    "sns.histplot(train,x='Gender',kde=True )\n",
    "plt.subplot(3,3,3)\n",
    "sns.histplot(train,x='Quarterly Rating' ,kde=True )\n",
    "plt.subplot(3,3,4)\n",
    "sns.histplot(train,x='Education_Level' ,kde=True )\n",
    "plt.subplot(3,3,5)\n",
    "sns.histplot(train,x='Salary' ,kde=True )\n",
    "plt.subplot(3,3,6)\n",
    "sns.histplot(train,x='Joining Designation' ,kde=True )\n",
    "plt.subplot(3,3,7)\n",
    "sns.histplot(train,x='Designation' ,kde=True )\n",
    "plt.subplot(3,3,8)\n",
    "sns.histplot(train,x='Total Business Value' ,kde=True )\n",
    "plt.subplot(3,3,9)\n",
    "sns.histplot(train,x='Attrition' ,kde=True )\n",
    "plt.show()"
   ]
  },
  {
   "cell_type": "code",
   "execution_count": null,
   "id": "2a4b16fa",
   "metadata": {},
   "outputs": [],
   "source": [
    "plt.figure(figsize=(20,10))\n",
    "sns.histplot(train,x='City' ,kde=True )"
   ]
  },
  {
   "cell_type": "markdown",
   "id": "7b626111",
   "metadata": {},
   "source": [
    "# Conclusions on Univariate Analysis"
   ]
  },
  {
   "cell_type": "markdown",
   "id": "a84363ec",
   "metadata": {},
   "source": [
    "1.Maximum no of employees are around range 33-35.\n",
    "\n",
    "2.Maximum no of employees are Male.\n",
    "\n",
    "3.Maximum no of employees are given rating 1 and minimum no of employees are given rating 4.\n",
    "\n",
    "4.Equal no of employees in each educational degree category.\n",
    "\n",
    "5.Maximum no of employees have 65000 as salary.\n",
    "\n",
    "6.Maximum no of employees have joining designation as 1.\n",
    "\n",
    "7.Maximum no of employees have designation as 2.\n",
    "\n",
    "8.62% of employees have resigned."
   ]
  },
  {
   "cell_type": "markdown",
   "id": "5d60c843",
   "metadata": {},
   "source": [
    "# Bivariate Analysis"
   ]
  },
  {
   "cell_type": "code",
   "execution_count": null,
   "id": "ee1592d5",
   "metadata": {},
   "outputs": [],
   "source": [
    "sns.set_palette(\"tab10\")#setting plot color palette"
   ]
  },
  {
   "cell_type": "code",
   "execution_count": null,
   "id": "9ffa818e",
   "metadata": {},
   "outputs": [],
   "source": [
    "plt.figure(figsize=(20,10))\n",
    "plt.subplot(3,3,1)\n",
    "sns.barplot(data=train,x='Attrition',y='Age',hue='Gender')\n",
    "plt.subplot(3,3,2)\n",
    "sns.barplot(data=train,x='Quarterly Rating',y='Attrition',hue='Gender')\n",
    "plt.subplot(3,3,3)\n",
    "sns.barplot(data=train,x='Education_Level' ,y='Attrition',hue='Gender')\n",
    "plt.subplot(3,3,4)\n",
    "sns.barplot(data=train,x='Attrition' ,y='Salary',hue='Gender')\n",
    "plt.subplot(3,3,5)\n",
    "sns.barplot(data=train,x='Joining Designation' ,y='Attrition',hue='Gender')\n",
    "plt.subplot(3,3,6)\n",
    "sns.barplot(data=train,x='Designation' ,y='Attrition',hue='Gender')\n",
    "plt.subplot(3,3,7)\n",
    "sns.barplot(data=train,x='Attrition' ,y='Total Business Value',hue='Gender')\n",
    "plt.subplot(3,3,8)\n",
    "sns.barplot(data=train,x='Gender' ,y='Attrition')\n",
    "plt.subplots_adjust(left=0.1,\n",
    "                    bottom=0.1, \n",
    "                    right=0.9, \n",
    "                    top=0.9, \n",
    "                    wspace=0.6, \n",
    "                    hspace=0.6)\n",
    "plt.show()"
   ]
  },
  {
   "cell_type": "markdown",
   "id": "46543435",
   "metadata": {},
   "source": [
    "# Conclusions on Bi-variate analysis\n",
    "    "
   ]
  },
  {
   "cell_type": "markdown",
   "id": "e4a12541",
   "metadata": {},
   "source": [
    "1.Employees above age 30 tend to resign more.\n",
    "\n",
    "2.Employees having quarter ratings 1 tend to resign more.\n",
    "\n",
    "3.Female employees having college degree tend to resign more.\n",
    "\n",
    "4.Employees having salary <60000 tend to resign more.\n",
    "\n",
    "5.Male employees having joining designation as 5 tend to resign more.\n",
    "\n",
    "6.Employees having designation as 1 tend to resign more.\n",
    "\n",
    "7.Employees with total business value less than 0.2 tend to resign more.\n",
    "\n",
    "8.Male employees tends to resign slightly more than female employees."
   ]
  },
  {
   "cell_type": "markdown",
   "id": "7625325e",
   "metadata": {},
   "source": [
    "# Multivariant Analysis"
   ]
  },
  {
   "cell_type": "code",
   "execution_count": null,
   "id": "ef61e1a9",
   "metadata": {},
   "outputs": [],
   "source": [
    "train.corr()"
   ]
  },
  {
   "cell_type": "code",
   "execution_count": null,
   "id": "9d265d70",
   "metadata": {},
   "outputs": [],
   "source": [
    "sns.pairplot(train)"
   ]
  },
  {
   "cell_type": "code",
   "execution_count": null,
   "id": "96808080",
   "metadata": {},
   "outputs": [],
   "source": [
    "sns.heatmap(train.corr(), annot=True)  # plot the correlation coefficients as a heatmap"
   ]
  },
  {
   "cell_type": "markdown",
   "id": "fa9a7d98",
   "metadata": {},
   "source": [
    "# Data Pre-processing"
   ]
  },
  {
   "cell_type": "code",
   "execution_count": null,
   "id": "de4028fc",
   "metadata": {},
   "outputs": [],
   "source": [
    "train.columns"
   ]
  },
  {
   "cell_type": "code",
   "execution_count": null,
   "id": "a90e8021",
   "metadata": {},
   "outputs": [],
   "source": [
    "df=train.iloc[:,1:]"
   ]
  },
  {
   "cell_type": "code",
   "execution_count": null,
   "id": "939f26ff",
   "metadata": {},
   "outputs": [],
   "source": [
    "df.columns"
   ]
  },
  {
   "cell_type": "code",
   "execution_count": null,
   "id": "5e1b840b",
   "metadata": {},
   "outputs": [],
   "source": [
    "from sklearn.preprocessing import LabelEncoder\n",
    "label = LabelEncoder()\n",
    "df['City'] = label.fit_transform(df['City'])\n",
    "df['Gender'] = label.fit_transform(df['Gender'])\n",
    "df['Education_Level'] = label.fit_transform(df['Education_Level'])\n"
   ]
  },
  {
   "cell_type": "code",
   "execution_count": null,
   "id": "3cee65c7",
   "metadata": {},
   "outputs": [],
   "source": [
    "df.head(10)"
   ]
  },
  {
   "cell_type": "code",
   "execution_count": null,
   "id": "81911206",
   "metadata": {},
   "outputs": [],
   "source": [
    "#standardization of data\n",
    "from sklearn import preprocessing\n",
    "from sklearn.preprocessing import StandardScaler"
   ]
  },
  {
   "cell_type": "code",
   "execution_count": null,
   "id": "1591bcc8",
   "metadata": {},
   "outputs": [],
   "source": [
    "df_std = pd.DataFrame(StandardScaler().fit_transform(df.iloc[:,:-1]))"
   ]
  },
  {
   "cell_type": "code",
   "execution_count": null,
   "id": "7b92812b",
   "metadata": {},
   "outputs": [],
   "source": [
    "df_std.head(5)"
   ]
  },
  {
   "cell_type": "code",
   "execution_count": null,
   "id": "3b5c3daa",
   "metadata": {},
   "outputs": [],
   "source": [
    "df_std.columns=df.iloc[:,:-1].columns #transforming only continuous variable into single standard"
   ]
  },
  {
   "cell_type": "code",
   "execution_count": null,
   "id": "b46e8562",
   "metadata": {},
   "outputs": [],
   "source": [
    "df_std.head(5)"
   ]
  },
  {
   "cell_type": "code",
   "execution_count": null,
   "id": "6d861074",
   "metadata": {},
   "outputs": [],
   "source": [
    "X=df_std #Predictors"
   ]
  },
  {
   "cell_type": "code",
   "execution_count": null,
   "id": "d3ff6ef0",
   "metadata": {},
   "outputs": [],
   "source": [
    "y=df['Attrition'] #Target"
   ]
  },
  {
   "cell_type": "code",
   "execution_count": null,
   "id": "54e0b586",
   "metadata": {},
   "outputs": [],
   "source": [
    "from sklearn.model_selection import train_test_split\n",
    "\n",
    "\n",
    "\n",
    "# split into train and test\n",
    "\n",
    "X_train, X_val, y_train, y_val = train_test_split(X, y, test_size=0.2, random_state=7)"
   ]
  },
  {
   "cell_type": "markdown",
   "id": "a7467dc5",
   "metadata": {},
   "source": [
    "# Model"
   ]
  },
  {
   "cell_type": "markdown",
   "id": "ef6622e6",
   "metadata": {},
   "source": [
    "# 1:Logistic Regression"
   ]
  },
  {
   "cell_type": "code",
   "execution_count": null,
   "id": "06c6a563",
   "metadata": {},
   "outputs": [],
   "source": [
    "from sklearn.linear_model import LogisticRegression\n",
    "logreg = LogisticRegression()"
   ]
  },
  {
   "cell_type": "code",
   "execution_count": null,
   "id": "fd69bd76",
   "metadata": {},
   "outputs": [],
   "source": [
    "logreg.fit(X_train,y_train)"
   ]
  },
  {
   "cell_type": "code",
   "execution_count": null,
   "id": "9bb31c5d",
   "metadata": {},
   "outputs": [],
   "source": [
    "pred_val = logreg.predict(X_val)"
   ]
  },
  {
   "cell_type": "code",
   "execution_count": null,
   "id": "1867587c",
   "metadata": {},
   "outputs": [],
   "source": [
    "from sklearn.metrics import accuracy_score\n",
    "print(accuracy_score(y_val, pred_val))"
   ]
  },
  {
   "cell_type": "code",
   "execution_count": null,
   "id": "242b2dc8",
   "metadata": {},
   "outputs": [],
   "source": [
    "from sklearn.metrics import confusion_matrix\n",
    "confusion_matrix(y_val, pred_val)"
   ]
  },
  {
   "cell_type": "code",
   "execution_count": null,
   "id": "e2d6844f",
   "metadata": {},
   "outputs": [],
   "source": [
    "from sklearn.metrics import f1_score"
   ]
  },
  {
   "cell_type": "code",
   "execution_count": null,
   "id": "62396f6c",
   "metadata": {},
   "outputs": [],
   "source": [
    "f1_score(y_val, pred_val)"
   ]
  },
  {
   "cell_type": "code",
   "execution_count": null,
   "id": "acfa22ec",
   "metadata": {},
   "outputs": [],
   "source": [
    "xg = xgb.XGBClassifier()\n",
    "rfcl = RandomForestClassifier()\n",
    "cb = CatBoostClassifier()\n",
    "lg = LGBMClassifier ()\n"
   ]
  },
  {
   "cell_type": "markdown",
   "id": "a6e28948",
   "metadata": {},
   "source": [
    "# Hyperparameter tuning"
   ]
  },
  {
   "cell_type": "code",
   "execution_count": null,
   "id": "247c7cc5",
   "metadata": {},
   "outputs": [],
   "source": [
    "ensemble_clf=[logreg,rfcl,xg,cb,lg]"
   ]
  },
  {
   "cell_type": "code",
   "execution_count": null,
   "id": "9efae2a1",
   "metadata": {},
   "outputs": [],
   "source": [
    "param1={\"C\":np.logspace(-3,3,7), \"penalty\":[\"l1\",\"l2\"]}\n",
    "param2={\"n_estimators\":[100, 300, 500, 800, 1200],\"max_depth\":range(5,30,5),\"min_samples_split\":range(1,100,5),\"min_samples_leaf\":[1, 2, 5, 10]}\n",
    "param3={'learning_rate':[0.1,0.8,0.01,0.03],'max_depth':range(5,16,2),'min_child_weight':range(1,6,2),'gamma':[0.1,0.5,0.01]}\n",
    "param4={'learning_rate': [0.03, 0.1,0.2,0.5],'depth':range(5,16,2),'l2_leaf_reg': range(1,20,2)}\n",
    "param5={'learning_rate': [0.03,0.5,0.1,0.01],'max_depth':range(5,20,5),'num_leaves': range(1,30,2)}"
   ]
  },
  {
   "cell_type": "code",
   "execution_count": null,
   "id": "d612ecb2",
   "metadata": {},
   "outputs": [],
   "source": [
    "param=[param1,param2,param3,param4,param5]"
   ]
  },
  {
   "cell_type": "code",
   "execution_count": null,
   "id": "d598e9a5",
   "metadata": {},
   "outputs": [],
   "source": [
    "model_log=[\"_logreg\", \"_rfcl\",\"_xg\",\"_cb\",\"_lg\"]"
   ]
  },
  {
   "cell_type": "code",
   "execution_count": null,
   "id": "b5473f10",
   "metadata": {},
   "outputs": [],
   "source": [
    "from sklearn.model_selection import RandomizedSearchCV"
   ]
  },
  {
   "cell_type": "code",
   "execution_count": null,
   "id": "7115213e",
   "metadata": {},
   "outputs": [],
   "source": [
    "for i in range(len(ensemble_clf)):\n",
    "    ran=RandomizedSearchCV(estimator=ensemble_clf[i], param_distributions=param[i], \n",
    "                      n_jobs=-1, cv=3, verbose=3)\n",
    "    ran.fit(X_train, y_train)\n",
    "    globals()['Grid%s' % model_log[i]]=pd.DataFrame(ran.cv_results_)"
   ]
  },
  {
   "cell_type": "code",
   "execution_count": null,
   "id": "b047b2da",
   "metadata": {},
   "outputs": [],
   "source": []
  },
  {
   "cell_type": "code",
   "execution_count": null,
   "id": "fcbe6700",
   "metadata": {},
   "outputs": [],
   "source": []
  }
 ],
 "metadata": {
  "kernelspec": {
   "display_name": "Python 3",
   "language": "python",
   "name": "python3"
  },
  "language_info": {
   "codemirror_mode": {
    "name": "ipython",
    "version": 3
   },
   "file_extension": ".py",
   "mimetype": "text/x-python",
   "name": "python",
   "nbconvert_exporter": "python",
   "pygments_lexer": "ipython3",
   "version": "3.8.8"
  }
 },
 "nbformat": 4,
 "nbformat_minor": 5
}
